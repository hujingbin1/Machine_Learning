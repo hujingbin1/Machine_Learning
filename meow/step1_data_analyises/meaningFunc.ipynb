{
 "cells": [
  {
   "cell_type": "code",
   "execution_count": 1,
   "metadata": {},
   "outputs": [],
   "source": [
    "import numpy as np\n",
    "import pandas as pd"
   ]
  },
  {
   "cell_type": "code",
   "execution_count": null,
   "metadata": {},
   "outputs": [],
   "source": [
    "#\n",
    "def dealDataFrame(df):\n",
    "    \"\"\"\n",
    "    处理一个dataframe，修正其中的np.nan np.inf，使其变为平均值。\n",
    "    不会处理0，需要额外对于0的处理。\n",
    "    \"\"\"\n",
    "    column_name = df.columns[3:]\n",
    "    for name in column_name:\n",
    "        df = df.replace(np.inf,np.nan)\n",
    "        # 计算每组的均值\n",
    "        mean_values = df.groupby('symbol')[name].transform('mean')\n",
    "        mean_values = mean_values.fillna(mean_values.mean())\n",
    "        df[name] = df[name].fillna(mean_values)\n",
    "    return df"
   ]
  }
 ],
 "metadata": {
  "kernelspec": {
   "display_name": "base",
   "language": "python",
   "name": "python3"
  },
  "language_info": {
   "codemirror_mode": {
    "name": "ipython",
    "version": 3
   },
   "file_extension": ".py",
   "mimetype": "text/x-python",
   "name": "python",
   "nbconvert_exporter": "python",
   "pygments_lexer": "ipython3",
   "version": "3.11.9"
  }
 },
 "nbformat": 4,
 "nbformat_minor": 2
}
