{
 "cells": [
  {
   "cell_type": "code",
   "execution_count": 3,
   "metadata": {},
   "outputs": [
    {
     "data": {
      "text/plain": [
       "{0: '北京', 1: '喜欢', 2: '上海', 3: '她', 4: '爱', 5: '我'}"
      ]
     },
     "execution_count": 3,
     "metadata": {},
     "output_type": "execute_result"
    }
   ],
   "source": [
    "import jieba\n",
    "raw_text=\"\"\"我爱上海\n",
    "            她喜欢北京\"\"\"\n",
    "stoplist=[' ','\\n']\n",
    "words=list(jieba.cut(raw_text))\n",
    "words=[i for i in words if i not in stoplist]\n",
    "words\n",
    "word_to_ix={i:word for i,word in enumerate(set(words))}\n",
    "word_to_ix"
   ]
  },
  {
   "cell_type": "code",
   "execution_count": 13,
   "metadata": {},
   "outputs": [
    {
     "data": {
      "text/plain": [
       "[tensor([ 1.5649, -0.2076,  1.2371,  1.2551,  0.2258, -0.0281, -0.8688, -1.2265]),\n",
       " tensor([ 0.4838,  1.4772,  0.9832, -0.6484, -0.4338, -1.5786,  0.4542, -0.2898]),\n",
       " tensor([ 1.2596,  0.2039,  1.1723, -0.2833, -0.6324,  0.2152, -1.4667,  0.3953]),\n",
       " tensor([-1.2355,  0.2418,  0.9343, -1.5218, -1.1191, -0.0041,  0.5081,  0.3493]),\n",
       " tensor([ 0.7845,  0.9311,  1.7612,  0.4973, -0.5751,  0.3439,  1.0793,  1.1329]),\n",
       " tensor([ 0.9145, -2.8861,  1.3695,  2.0318, -0.2937, -0.6854,  0.0041,  0.7340])]"
      ]
     },
     "execution_count": 13,
     "metadata": {},
     "output_type": "execute_result"
    }
   ],
   "source": [
    "from torch import nn\n",
    "import torch\n",
    "embeds=nn.Embedding(6,8)\n",
    "lists=[]\n",
    "for k,v in word_to_ix.items():\n",
    "    tensor_value=torch.tensor(k)\n",
    "    lists.append((embeds(tensor_value).data))\n",
    "\n",
    "lists"
   ]
  },
  {
   "cell_type": "code",
   "execution_count": null,
   "metadata": {},
   "outputs": [],
   "source": []
  }
 ],
 "metadata": {
  "kernelspec": {
   "display_name": "py39pt20",
   "language": "python",
   "name": "python3"
  },
  "language_info": {
   "codemirror_mode": {
    "name": "ipython",
    "version": 3
   },
   "file_extension": ".py",
   "mimetype": "text/x-python",
   "name": "python",
   "nbconvert_exporter": "python",
   "pygments_lexer": "ipython3",
   "version": "3.9.18"
  }
 },
 "nbformat": 4,
 "nbformat_minor": 2
}
