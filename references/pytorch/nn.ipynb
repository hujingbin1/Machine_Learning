{
 "cells": [
  {
   "cell_type": "code",
   "execution_count": 1,
   "metadata": {},
   "outputs": [],
   "source": [
    "import numpy as np\n",
    "import torch\n",
    "#导入pytorch内置的mnist数据\n",
    "from torchvision.datasets import mnist\n",
    "#导入预处理模块\n",
    "import torchvision.transforms as transforms\n",
    "from torch.utils.data import DataLoader\n",
    "#导入nn及优化器\n",
    "import torch.nn.functional as F\n",
    "import torch.optim as optim\n",
    "from torch import nn"
   ]
  },
  {
   "cell_type": "code",
   "execution_count": 2,
   "metadata": {},
   "outputs": [],
   "source": [
    "#定义超参\n",
    "train_batch_size=64\n",
    "test_batch_size=128\n",
    "learning_rate=0.01\n",
    "num_epoches=20\n",
    "lr=0.01\n",
    "momentum=0.5"
   ]
  },
  {
   "cell_type": "code",
   "execution_count": 3,
   "metadata": {},
   "outputs": [],
   "source": [
    "#下载数据并对数据预处理\n",
    "transform=transforms.Compose([transforms.ToTensor(),transforms.Normalize([0.5],[0.5])])\n",
    "train_dataset=mnist.MNIST('./data',train=True,transform=transform,download=True)\n",
    "test_dataset=mnist.MNIST('./data',train=False,transform=transform)\n",
    "train_loader=DataLoader(train_dataset,batch_size=train_batch_size,shuffle=True)\n",
    "test_loader=DataLoader(test_dataset,batch_size=test_batch_size,shuffle=False)"
   ]
  },
  {
   "cell_type": "code",
   "execution_count": 5,
   "metadata": {},
   "outputs": [
    {
     "data": {
      "image/png": "[encoded data removed]",
      "text/plain": [
       "<Figure size 640x480 with 6 Axes>"
      ]
     },
     "metadata": {},
     "output_type": "display_data"
    }
   ],
   "source": [
    "import matplotlib.pyplot as plt\n",
    "examples=enumerate(test_loader)\n",
    "batch_idx,(example_data,example_targets)=next(examples)\n",
    "fig=plt.figure()\n",
    "for i in range(6):\n",
    "    plt.subplot(2,3,i+1)\n",
    "    plt.tight_layout()\n",
    "    plt.imshow(example_data[i][0],cmap='gray',interpolation='none')\n",
    "    plt.title(\"Ground Truth:{}\".format(example_targets[i]))\n",
    "    plt.xticks([])\n",
    "    plt.yticks([])"
   ]
  },
  {
   "cell_type": "code",
   "execution_count": 6,
   "metadata": {},
   "outputs": [],
   "source": [
    "#构建网络\n",
    "class Net(nn.Module):\n",
    "    def __init__(self,in_dim,n_hidden_1,n_hidden_2,out_dim):\n",
    "        super(Net,self).__init__()\n",
    "        self.layer1=nn.Sequential(nn.Linear(in_dim,n_hidden_1),nn.BatchNorm1d(n_hidden_1))\n",
    "        self.layer2=nn.Sequential(nn.Linear(n_hidden_1,n_hidden_2),nn.BatchNorm1d(n_hidden_2))\n",
    "        self.layer3=nn.Sequential(nn.Linear(n_hidden_2,out_dim))\n",
    "    def forward(self,x):\n",
    "        x = F.relu(self.layer1(x))\n",
    "        x = F.relu(self.layer2(x))\n",
    "        x =self.layer3(x)\n",
    "        return x\n"
   ]
  },
  {
   "cell_type": "code",
   "execution_count": 7,
   "metadata": {},
   "outputs": [],
   "source": [
    "#实例化网络\n",
    "#检测是否可用gpu，不可用则调用cpu\n",
    "device=torch.device(\"cuda:0\" if torch.cuda.is_available()else \"cpu\" )\n",
    "#实例化网络\n",
    "model=Net(28*28,300,100,10)\n",
    "model.to(device)\n",
    "#定义损失函数和优化器\n",
    "criterion=nn.CrossEntropyLoss()\n",
    "optimizer=optim.SGD(model.parameters(),lr=lr,momentum=momentum)"
   ]
  },
  {
   "cell_type": "code",
   "execution_count": 8,
   "metadata": {},
   "outputs": [
    {
     "name": "stdout",
     "output_type": "stream",
     "text": [
      "epoch:0,Train Loss:1.0407,Train Acc:0.7777.Test Loss:0.5508,Test Acc:0.9019\n",
      "epoch:1,Train Loss:0.4817,Train Acc:0.9003.Test Loss:0.3524,Test Acc:0.9258\n",
      "epoch:2,Train Loss:0.3472,Train Acc:0.9206.Test Loss:0.2706,Test Acc:0.9383\n",
      "epoch:3,Train Loss:0.2812,Train Acc:0.9326.Test Loss:0.2250,Test Acc:0.9472\n",
      "epoch:4,Train Loss:0.2386,Train Acc:0.9409.Test Loss:0.1955,Test Acc:0.9511\n",
      "epoch:5,Train Loss:0.2192,Train Acc:0.9467.Test Loss:0.1950,Test Acc:0.9509\n",
      "epoch:6,Train Loss:0.2161,Train Acc:0.9470.Test Loss:0.1908,Test Acc:0.9531\n",
      "epoch:7,Train Loss:0.2132,Train Acc:0.9472.Test Loss:0.1885,Test Acc:0.9528\n",
      "epoch:8,Train Loss:0.2116,Train Acc:0.9477.Test Loss:0.1863,Test Acc:0.9527\n",
      "epoch:9,Train Loss:0.2089,Train Acc:0.9489.Test Loss:0.1829,Test Acc:0.9541\n",
      "epoch:10,Train Loss:0.2063,Train Acc:0.9492.Test Loss:0.1832,Test Acc:0.9534\n",
      "epoch:11,Train Loss:0.2069,Train Acc:0.9497.Test Loss:0.1839,Test Acc:0.9535\n",
      "epoch:12,Train Loss:0.2075,Train Acc:0.9485.Test Loss:0.1818,Test Acc:0.9546\n",
      "epoch:13,Train Loss:0.2065,Train Acc:0.9498.Test Loss:0.1829,Test Acc:0.9537\n",
      "epoch:14,Train Loss:0.2062,Train Acc:0.9492.Test Loss:0.1847,Test Acc:0.9533\n",
      "epoch:15,Train Loss:0.2056,Train Acc:0.9502.Test Loss:0.1838,Test Acc:0.9532\n",
      "epoch:16,Train Loss:0.2055,Train Acc:0.9496.Test Loss:0.1843,Test Acc:0.9528\n",
      "epoch:17,Train Loss:0.2063,Train Acc:0.9499.Test Loss:0.1866,Test Acc:0.9528\n",
      "epoch:18,Train Loss:0.2062,Train Acc:0.9489.Test Loss:0.1841,Test Acc:0.9532\n",
      "epoch:19,Train Loss:0.2055,Train Acc:0.9495.Test Loss:0.1868,Test Acc:0.9543\n"
     ]
    }
   ],
   "source": [
    "#训练模型\n",
    "losses=[]\n",
    "acces=[]\n",
    "eval_losses=[]\n",
    "eval_acces=[]\n",
    "for epoch in range(num_epoches):\n",
    "    train_loss=0\n",
    "    train_acc=0\n",
    "    model.train()\n",
    "    if epoch%5==0:\n",
    "        optimizer.param_groups[0]['lr']*=0.1\n",
    "    for img , label in train_loader:\n",
    "        img=img.to(device)\n",
    "        label=label.to(device)\n",
    "        img=img.view(img.size(0),-1)\n",
    "        out=model(img)\n",
    "        loss=criterion(out,label)\n",
    "        optimizer.zero_grad()\n",
    "        loss.backward()\n",
    "        optimizer.step()\n",
    "        train_loss+=loss.item()\n",
    "        _,pred=out.max(1)\n",
    "        num_correct=(pred==label).sum().item()\n",
    "        acc=num_correct/img.shape[0]\n",
    "        train_acc+=acc\n",
    "\n",
    "    losses.append(train_loss/len(train_loader))\n",
    "    acces.append(train_acc/len(train_loader))\n",
    "    eval_loss=0\n",
    "    eval_acc=0\n",
    "    model.eval()\n",
    "    for img,label in test_loader:\n",
    "        img=img.to(device)\n",
    "        label=label.to(device)\n",
    "        img=img.view(img.size(0),-1)\n",
    "        out=model(img)\n",
    "        loss=criterion(out,label)\n",
    "        eval_loss+=loss.item()\n",
    "        _,pred=out.max(1)\n",
    "        num_correct=(pred==label).sum().item()\n",
    "        acc=num_correct/img.shape[0]\n",
    "        eval_acc+=acc\n",
    "    eval_losses.append(eval_loss/len(test_loader))\n",
    "    eval_acces.append(eval_acc/len(test_loader))\n",
    "    print('epoch:{},Train Loss:{:.4f},Train Acc:{:.4f}.Test Loss:{:.4f},Test Acc:{:.4f}'.format(epoch,train_loss/len(train_loader),train_acc/len(train_loader),eval_loss/len(test_loader),eval_acc/len(test_loader)))"
   ]
  },
  {
   "cell_type": "code",
   "execution_count": 10,
   "metadata": {},
   "outputs": [
    {
     "data": {
      "text/plain": [
       "<matplotlib.legend.Legend at 0x7f3c8038ddb0>"
      ]
     },
     "execution_count": 10,
     "metadata": {},
     "output_type": "execute_result"
    },
    {
     "data": {
      "image/png": "[encoded data removed]",
      "text/plain": [
       "<Figure size 640x480 with 1 Axes>"
      ]
     },
     "metadata": {},
     "output_type": "display_data"
    }
   ],
   "source": [
    "plt.title('trainloss')\n",
    "plt.plot(np.arange(len(losses)),losses)\n",
    "plt.legend(['Train Loss'],loc='upper right')"
   ]
  },
  {
   "cell_type": "code",
   "execution_count": null,
   "metadata": {},
   "outputs": [],
   "source": []
  }
 ],
 "metadata": {
  "kernelspec": {
   "display_name": "py39pt20",
   "language": "python",
   "name": "python3"
  },
  "language_info": {
   "codemirror_mode": {
    "name": "ipython",
    "version": 3
   },
   "file_extension": ".py",
   "mimetype": "text/x-python",
   "name": "python",
   "nbconvert_exporter": "python",
   "pygments_lexer": "ipython3",
   "version": "3.10.14"
  }
 },
 "nbformat": 4,
 "nbformat_minor": 2
}
