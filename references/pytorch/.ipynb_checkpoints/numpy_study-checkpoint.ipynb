{
 "cells": [
  {
   "cell_type": "code",
   "execution_count": 1,
   "metadata": {},
   "outputs": [
    {
     "name": "stdout",
     "output_type": "stream",
     "text": [
      "[3.14 2.17 0.   1.   2.  ]\n",
      "<class 'numpy.ndarray'>\n"
     ]
    }
   ],
   "source": [
    "import numpy as np\n",
    "lst1=[3.14,2.17,0,1,2]\n",
    "nd1=np.array(lst1)\n",
    "print(nd1)\n",
    "print(type(nd1))"
   ]
  },
  {
   "cell_type": "code",
   "execution_count": 7,
   "metadata": {},
   "outputs": [
    {
     "name": "stdout",
     "output_type": "stream",
     "text": [
      "[[0.63179202 0.44025718 0.08372648]\n",
      " [0.71233018 0.42786349 0.2977805 ]\n",
      " [0.49208478 0.74029639 0.35772892]]\n"
     ]
    }
   ],
   "source": [
    "import numpy as np\n",
    "nd3=np.random.random([3,3])\n",
    "print(nd3)"
   ]
  },
  {
   "cell_type": "code",
   "execution_count": 5,
   "metadata": {},
   "outputs": [
    {
     "name": "stdout",
     "output_type": "stream",
     "text": [
      "[[-1.0856306   0.99734545  0.2829785 ]\n",
      " [-1.50629471 -0.57860025  1.65143654]]\n",
      "随机打乱后的数据：\n",
      "[[-1.50629471 -0.57860025  1.65143654]\n",
      " [-1.0856306   0.99734545  0.2829785 ]]\n",
      "<class 'numpy.ndarray'>\n"
     ]
    }
   ],
   "source": [
    "import numpy as np\n",
    "np.random.seed(123)#固定种子生成同一份数据\n",
    "nd4=np.random.randn(2,3)\n",
    "print(nd4)\n",
    "np.random.shuffle(nd4)\n",
    "print(\"随机打乱后的数据：\")\n",
    "print(nd4)\n",
    "print(type(nd4))"
   ]
  },
  {
   "cell_type": "code",
   "execution_count": 9,
   "metadata": {},
   "outputs": [
    {
     "name": "stdout",
     "output_type": "stream",
     "text": [
      "[0.1 0.2 0.3 0.4 0.5 0.6 0.7 0.8 0.9 1. ]\n"
     ]
    }
   ],
   "source": [
    "import numpy as np\n",
    "print(np.linspace(0.1,1,10))"
   ]
  },
  {
   "cell_type": "code",
   "execution_count": 11,
   "metadata": {},
   "outputs": [
    {
     "name": "stdout",
     "output_type": "stream",
     "text": [
      "[1.  1.5 2.  2.5 3.  3.5]\n"
     ]
    }
   ],
   "source": [
    "import numpy as np \n",
    "print(np.arange(1,4,0.5))"
   ]
  },
  {
   "cell_type": "code",
   "execution_count": 30,
   "metadata": {},
   "outputs": [
    {
     "name": "stdout",
     "output_type": "stream",
     "text": [
      "[0.90348221 0.39308051 0.62396996 0.6378774  0.88049907 0.29917202\n",
      " 0.70219827 0.90320616 0.88138193 0.4057498 ]\n",
      "0.6378774010222266\n",
      "[0.6378774  0.88049907 0.29917202]\n",
      "[0.39308051 0.6378774  0.29917202]\n",
      "[0.4057498  0.90320616 0.29917202 0.6378774  0.39308051]\n",
      "[[ 0  1  2  3  4]\n",
      " [ 5  6  7  8  9]\n",
      " [10 11 12 13 14]\n",
      " [15 16 17 18 19]\n",
      " [20 21 22 23 24]]\n",
      "[[ 6  7]\n",
      " [11 12]]\n",
      "[ 3  4  5  6  7  8  9 10 11 12 13 14 15]\n",
      "[[ 5  6  7  8  9]\n",
      " [10 11 12 13 14]]\n",
      "[[ 5  6  7  8  9]\n",
      " [10 11 12 13 14]]\n",
      "[[ 5  6  7  8  9]\n",
      " [10 11 12 13 14]]\n"
     ]
    }
   ],
   "source": [
    "import numpy as np\n",
    "np.random.seed(2019)\n",
    "nd1=np.random.random([10])\n",
    "print(nd1)\n",
    "print(nd1[3])\n",
    "print(nd1[3:6])\n",
    "print(nd1[1:6:2])\n",
    "print(nd1[::-2])\n",
    "nd2=np.arange(25).reshape([5,5])\n",
    "print(nd2)\n",
    "print(nd2[1:3,1:3])\n",
    "print(nd2[(nd2>2)&(nd2<16)])\n",
    "print(nd2[[1,2]])\n",
    "print(nd2[[1,2],:])\n",
    "print(nd2[1:3,:])"
   ]
  },
  {
   "cell_type": "code",
   "execution_count": 39,
   "metadata": {},
   "outputs": [
    {
     "name": "stdout",
     "output_type": "stream",
     "text": [
      "[ 1.  2.  3.  4.  5.  6.  7.  8.  9. 10. 11. 12. 13. 14. 15. 16. 17. 18.\n",
      " 19. 20. 21. 22. 23. 24.]\n",
      "[[ 7.  2. 19.  9.]\n",
      " [20. 24.  8.  8.]\n",
      " [17.  4. 21. 18.]]\n"
     ]
    }
   ],
   "source": [
    "import numpy as np\n",
    "from numpy import random as nr \n",
    "a=np.arange(1,25,dtype=float)\n",
    "print(np.arange(1,25,dtype=float))\n",
    "c1=nr.choice(a,size=(3,4))\n",
    "print(c1)"
   ]
  },
  {
   "cell_type": "code",
   "execution_count": 42,
   "metadata": {},
   "outputs": [
    {
     "name": "stdout",
     "output_type": "stream",
     "text": [
      "[[ 2  6]\n",
      " [ 8 15]]\n",
      "[[10 13]\n",
      " [16 21]]\n"
     ]
    }
   ],
   "source": [
    "#Numpy的算术运算\n",
    "import numpy as np \n",
    "A=np.array([[1,2],[2,3]])\n",
    "B=np.array([[2,3],[4,5]])\n",
    "print(A*B)\n",
    "print(np.dot(A,B))"
   ]
  },
  {
   "cell_type": "code",
   "execution_count": 49,
   "metadata": {},
   "outputs": [
    {
     "name": "stdout",
     "output_type": "stream",
     "text": [
      "[[8. 1. 4. 1.]\n",
      " [4. 4. 3. 3.]\n",
      " [2. 3. 5. 1.]]\n",
      "[8. 1. 4. 1. 4. 4. 3. 3. 2. 3. 5. 1.]\n"
     ]
    }
   ],
   "source": [
    "import numpy as np\n",
    "a=np.floor(10*np.random.random([3,4]))\n",
    "print(a)\n",
    "print(a.flatten())"
   ]
  },
  {
   "cell_type": "code",
   "execution_count": 44,
   "metadata": {},
   "outputs": [
    {
     "name": "stdout",
     "output_type": "stream",
     "text": [
      "[[7. 5. 1. 1.]\n",
      " [7. 8. 5. 5.]\n",
      " [5. 2. 6. 6.]]\n"
     ]
    }
   ],
   "source": [
    "#降维\n"
   ]
  },
  {
   "cell_type": "code",
   "execution_count": null,
   "metadata": {},
   "outputs": [],
   "source": []
  }
 ],
 "metadata": {
  "kernelspec": {
   "display_name": "Python 3",
   "language": "python",
   "name": "python3"
  },
  "language_info": {
   "codemirror_mode": {
    "name": "ipython",
    "version": 3
   },
   "file_extension": ".py",
   "mimetype": "text/x-python",
   "name": "python",
   "nbconvert_exporter": "python",
   "pygments_lexer": "ipython3",
   "version": "3.6.5"
  }
 },
 "nbformat": 4,
 "nbformat_minor": 2
}
